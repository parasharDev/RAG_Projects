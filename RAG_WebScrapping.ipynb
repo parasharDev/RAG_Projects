{
  "nbformat": 4,
  "nbformat_minor": 0,
  "metadata": {
    "colab": {
      "provenance": [],
      "authorship_tag": "ABX9TyMa0Rlb9V9fwFAhO6lIrx9+",
      "include_colab_link": true
    },
    "kernelspec": {
      "name": "python3",
      "display_name": "Python 3"
    },
    "language_info": {
      "name": "python"
    }
  },
  "cells": [
    {
      "cell_type": "markdown",
      "metadata": {
        "id": "view-in-github",
        "colab_type": "text"
      },
      "source": [
        "<a href=\"https://colab.research.google.com/github/parasharDev/RAG_Projects/blob/main/RAG_WebScrapping.ipynb\" target=\"_parent\"><img src=\"https://colab.research.google.com/assets/colab-badge.svg\" alt=\"Open In Colab\"/></a>"
      ]
    },
    {
      "cell_type": "code",
      "execution_count": null,
      "metadata": {
        "colab": {
          "base_uri": "https://localhost:8080/"
        },
        "id": "2rpop9V_hxF5",
        "outputId": "e7deccdd-d66f-4a21-8ede-543a04ceb714"
      },
      "outputs": [
        {
          "output_type": "stream",
          "name": "stdout",
          "text": [
            "Requirement already satisfied: langchain in /usr/local/lib/python3.12/dist-packages (0.3.27)\n",
            "Requirement already satisfied: langchain_community in /usr/local/lib/python3.12/dist-packages (0.3.31)\n",
            "Requirement already satisfied: langchainhub in /usr/local/lib/python3.12/dist-packages (0.1.21)\n",
            "Requirement already satisfied: langchain-openai in /usr/local/lib/python3.12/dist-packages (0.3.35)\n",
            "Requirement already satisfied: chromadb in /usr/local/lib/python3.12/dist-packages (1.1.1)\n",
            "Requirement already satisfied: langchain-core<1.0.0,>=0.3.72 in /usr/local/lib/python3.12/dist-packages (from langchain) (0.3.78)\n",
            "Requirement already satisfied: langchain-text-splitters<1.0.0,>=0.3.9 in /usr/local/lib/python3.12/dist-packages (from langchain) (0.3.11)\n",
            "Requirement already satisfied: langsmith>=0.1.17 in /usr/local/lib/python3.12/dist-packages (from langchain) (0.4.33)\n",
            "Requirement already satisfied: pydantic<3.0.0,>=2.7.4 in /usr/local/lib/python3.12/dist-packages (from langchain) (2.11.10)\n",
            "Requirement already satisfied: SQLAlchemy<3,>=1.4 in /usr/local/lib/python3.12/dist-packages (from langchain) (2.0.43)\n",
            "Requirement already satisfied: requests<3,>=2 in /usr/local/lib/python3.12/dist-packages (from langchain) (2.32.5)\n",
            "Requirement already satisfied: PyYAML>=5.3 in /usr/local/lib/python3.12/dist-packages (from langchain) (6.0.3)\n",
            "Requirement already satisfied: aiohttp<4.0.0,>=3.8.3 in /usr/local/lib/python3.12/dist-packages (from langchain_community) (3.13.0)\n",
            "Requirement already satisfied: tenacity!=8.4.0,<10.0.0,>=8.1.0 in /usr/local/lib/python3.12/dist-packages (from langchain_community) (8.5.0)\n",
            "Requirement already satisfied: dataclasses-json<0.7.0,>=0.6.7 in /usr/local/lib/python3.12/dist-packages (from langchain_community) (0.6.7)\n",
            "Requirement already satisfied: pydantic-settings<3.0.0,>=2.10.1 in /usr/local/lib/python3.12/dist-packages (from langchain_community) (2.11.0)\n",
            "Requirement already satisfied: httpx-sse<1.0.0,>=0.4.0 in /usr/local/lib/python3.12/dist-packages (from langchain_community) (0.4.2)\n",
            "Requirement already satisfied: numpy>=1.26.2 in /usr/local/lib/python3.12/dist-packages (from langchain_community) (2.0.2)\n",
            "Requirement already satisfied: packaging<25,>=23.2 in /usr/local/lib/python3.12/dist-packages (from langchainhub) (24.2)\n",
            "Requirement already satisfied: types-requests<3.0.0.0,>=2.31.0.2 in /usr/local/lib/python3.12/dist-packages (from langchainhub) (2.32.4.20250913)\n",
            "Requirement already satisfied: openai<3.0.0,>=1.104.2 in /usr/local/lib/python3.12/dist-packages (from langchain-openai) (1.109.1)\n",
            "Requirement already satisfied: tiktoken<1.0.0,>=0.7.0 in /usr/local/lib/python3.12/dist-packages (from langchain-openai) (0.12.0)\n",
            "Requirement already satisfied: build>=1.0.3 in /usr/local/lib/python3.12/dist-packages (from chromadb) (1.3.0)\n",
            "Requirement already satisfied: pybase64>=1.4.1 in /usr/local/lib/python3.12/dist-packages (from chromadb) (1.4.2)\n",
            "Requirement already satisfied: uvicorn>=0.18.3 in /usr/local/lib/python3.12/dist-packages (from uvicorn[standard]>=0.18.3->chromadb) (0.37.0)\n",
            "Requirement already satisfied: posthog<6.0.0,>=2.4.0 in /usr/local/lib/python3.12/dist-packages (from chromadb) (5.4.0)\n",
            "Requirement already satisfied: typing-extensions>=4.5.0 in /usr/local/lib/python3.12/dist-packages (from chromadb) (4.15.0)\n",
            "Requirement already satisfied: onnxruntime>=1.14.1 in /usr/local/lib/python3.12/dist-packages (from chromadb) (1.23.1)\n",
            "Requirement already satisfied: opentelemetry-api>=1.2.0 in /usr/local/lib/python3.12/dist-packages (from chromadb) (1.38.0)\n",
            "Requirement already satisfied: opentelemetry-exporter-otlp-proto-grpc>=1.2.0 in /usr/local/lib/python3.12/dist-packages (from chromadb) (1.38.0)\n",
            "Requirement already satisfied: opentelemetry-sdk>=1.2.0 in /usr/local/lib/python3.12/dist-packages (from chromadb) (1.38.0)\n",
            "Requirement already satisfied: tokenizers>=0.13.2 in /usr/local/lib/python3.12/dist-packages (from chromadb) (0.22.1)\n",
            "Requirement already satisfied: pypika>=0.48.9 in /usr/local/lib/python3.12/dist-packages (from chromadb) (0.48.9)\n",
            "Requirement already satisfied: tqdm>=4.65.0 in /usr/local/lib/python3.12/dist-packages (from chromadb) (4.67.1)\n",
            "Requirement already satisfied: overrides>=7.3.1 in /usr/local/lib/python3.12/dist-packages (from chromadb) (7.7.0)\n",
            "Requirement already satisfied: importlib-resources in /usr/local/lib/python3.12/dist-packages (from chromadb) (6.5.2)\n",
            "Requirement already satisfied: grpcio>=1.58.0 in /usr/local/lib/python3.12/dist-packages (from chromadb) (1.75.1)\n",
            "Requirement already satisfied: bcrypt>=4.0.1 in /usr/local/lib/python3.12/dist-packages (from chromadb) (5.0.0)\n",
            "Requirement already satisfied: typer>=0.9.0 in /usr/local/lib/python3.12/dist-packages (from chromadb) (0.19.2)\n",
            "Requirement already satisfied: kubernetes>=28.1.0 in /usr/local/lib/python3.12/dist-packages (from chromadb) (34.1.0)\n",
            "Requirement already satisfied: mmh3>=4.0.1 in /usr/local/lib/python3.12/dist-packages (from chromadb) (5.2.0)\n",
            "Requirement already satisfied: orjson>=3.9.12 in /usr/local/lib/python3.12/dist-packages (from chromadb) (3.11.3)\n",
            "Requirement already satisfied: httpx>=0.27.0 in /usr/local/lib/python3.12/dist-packages (from chromadb) (0.28.1)\n",
            "Requirement already satisfied: rich>=10.11.0 in /usr/local/lib/python3.12/dist-packages (from chromadb) (13.9.4)\n",
            "Requirement already satisfied: jsonschema>=4.19.0 in /usr/local/lib/python3.12/dist-packages (from chromadb) (4.25.1)\n",
            "Requirement already satisfied: aiohappyeyeballs>=2.5.0 in /usr/local/lib/python3.12/dist-packages (from aiohttp<4.0.0,>=3.8.3->langchain_community) (2.6.1)\n",
            "Requirement already satisfied: aiosignal>=1.4.0 in /usr/local/lib/python3.12/dist-packages (from aiohttp<4.0.0,>=3.8.3->langchain_community) (1.4.0)\n",
            "Requirement already satisfied: attrs>=17.3.0 in /usr/local/lib/python3.12/dist-packages (from aiohttp<4.0.0,>=3.8.3->langchain_community) (25.4.0)\n",
            "Requirement already satisfied: frozenlist>=1.1.1 in /usr/local/lib/python3.12/dist-packages (from aiohttp<4.0.0,>=3.8.3->langchain_community) (1.8.0)\n",
            "Requirement already satisfied: multidict<7.0,>=4.5 in /usr/local/lib/python3.12/dist-packages (from aiohttp<4.0.0,>=3.8.3->langchain_community) (6.7.0)\n",
            "Requirement already satisfied: propcache>=0.2.0 in /usr/local/lib/python3.12/dist-packages (from aiohttp<4.0.0,>=3.8.3->langchain_community) (0.3.2)\n",
            "Requirement already satisfied: yarl<2.0,>=1.17.0 in /usr/local/lib/python3.12/dist-packages (from aiohttp<4.0.0,>=3.8.3->langchain_community) (1.22.0)\n",
            "Requirement already satisfied: pyproject_hooks in /usr/local/lib/python3.12/dist-packages (from build>=1.0.3->chromadb) (1.2.0)\n",
            "Requirement already satisfied: marshmallow<4.0.0,>=3.18.0 in /usr/local/lib/python3.12/dist-packages (from dataclasses-json<0.7.0,>=0.6.7->langchain_community) (3.26.1)\n",
            "Requirement already satisfied: typing-inspect<1,>=0.4.0 in /usr/local/lib/python3.12/dist-packages (from dataclasses-json<0.7.0,>=0.6.7->langchain_community) (0.9.0)\n",
            "Requirement already satisfied: anyio in /usr/local/lib/python3.12/dist-packages (from httpx>=0.27.0->chromadb) (4.11.0)\n",
            "Requirement already satisfied: certifi in /usr/local/lib/python3.12/dist-packages (from httpx>=0.27.0->chromadb) (2025.10.5)\n",
            "Requirement already satisfied: httpcore==1.* in /usr/local/lib/python3.12/dist-packages (from httpx>=0.27.0->chromadb) (1.0.9)\n",
            "Requirement already satisfied: idna in /usr/local/lib/python3.12/dist-packages (from httpx>=0.27.0->chromadb) (3.10)\n",
            "Requirement already satisfied: h11>=0.16 in /usr/local/lib/python3.12/dist-packages (from httpcore==1.*->httpx>=0.27.0->chromadb) (0.16.0)\n",
            "Requirement already satisfied: jsonschema-specifications>=2023.03.6 in /usr/local/lib/python3.12/dist-packages (from jsonschema>=4.19.0->chromadb) (2025.9.1)\n",
            "Requirement already satisfied: referencing>=0.28.4 in /usr/local/lib/python3.12/dist-packages (from jsonschema>=4.19.0->chromadb) (0.36.2)\n",
            "Requirement already satisfied: rpds-py>=0.7.1 in /usr/local/lib/python3.12/dist-packages (from jsonschema>=4.19.0->chromadb) (0.27.1)\n",
            "Requirement already satisfied: six>=1.9.0 in /usr/local/lib/python3.12/dist-packages (from kubernetes>=28.1.0->chromadb) (1.17.0)\n",
            "Requirement already satisfied: python-dateutil>=2.5.3 in /usr/local/lib/python3.12/dist-packages (from kubernetes>=28.1.0->chromadb) (2.9.0.post0)\n",
            "Requirement already satisfied: google-auth>=1.0.1 in /usr/local/lib/python3.12/dist-packages (from kubernetes>=28.1.0->chromadb) (2.38.0)\n",
            "Requirement already satisfied: websocket-client!=0.40.0,!=0.41.*,!=0.42.*,>=0.32.0 in /usr/local/lib/python3.12/dist-packages (from kubernetes>=28.1.0->chromadb) (1.9.0)\n",
            "Requirement already satisfied: requests-oauthlib in /usr/local/lib/python3.12/dist-packages (from kubernetes>=28.1.0->chromadb) (2.0.0)\n",
            "Requirement already satisfied: urllib3<2.4.0,>=1.24.2 in /usr/local/lib/python3.12/dist-packages (from kubernetes>=28.1.0->chromadb) (2.3.0)\n",
            "Requirement already satisfied: durationpy>=0.7 in /usr/local/lib/python3.12/dist-packages (from kubernetes>=28.1.0->chromadb) (0.10)\n",
            "Requirement already satisfied: jsonpatch<2.0.0,>=1.33.0 in /usr/local/lib/python3.12/dist-packages (from langchain-core<1.0.0,>=0.3.72->langchain) (1.33)\n",
            "Requirement already satisfied: requests-toolbelt>=1.0.0 in /usr/local/lib/python3.12/dist-packages (from langsmith>=0.1.17->langchain) (1.0.0)\n",
            "Requirement already satisfied: zstandard>=0.23.0 in /usr/local/lib/python3.12/dist-packages (from langsmith>=0.1.17->langchain) (0.25.0)\n",
            "Requirement already satisfied: coloredlogs in /usr/local/lib/python3.12/dist-packages (from onnxruntime>=1.14.1->chromadb) (15.0.1)\n",
            "Requirement already satisfied: flatbuffers in /usr/local/lib/python3.12/dist-packages (from onnxruntime>=1.14.1->chromadb) (25.9.23)\n",
            "Requirement already satisfied: protobuf in /usr/local/lib/python3.12/dist-packages (from onnxruntime>=1.14.1->chromadb) (5.29.5)\n",
            "Requirement already satisfied: sympy in /usr/local/lib/python3.12/dist-packages (from onnxruntime>=1.14.1->chromadb) (1.13.3)\n",
            "Requirement already satisfied: distro<2,>=1.7.0 in /usr/local/lib/python3.12/dist-packages (from openai<3.0.0,>=1.104.2->langchain-openai) (1.9.0)\n",
            "Requirement already satisfied: jiter<1,>=0.4.0 in /usr/local/lib/python3.12/dist-packages (from openai<3.0.0,>=1.104.2->langchain-openai) (0.11.0)\n",
            "Requirement already satisfied: sniffio in /usr/local/lib/python3.12/dist-packages (from openai<3.0.0,>=1.104.2->langchain-openai) (1.3.1)\n",
            "Requirement already satisfied: importlib-metadata<8.8.0,>=6.0 in /usr/local/lib/python3.12/dist-packages (from opentelemetry-api>=1.2.0->chromadb) (8.7.0)\n",
            "Requirement already satisfied: googleapis-common-protos~=1.57 in /usr/local/lib/python3.12/dist-packages (from opentelemetry-exporter-otlp-proto-grpc>=1.2.0->chromadb) (1.70.0)\n",
            "Requirement already satisfied: opentelemetry-exporter-otlp-proto-common==1.38.0 in /usr/local/lib/python3.12/dist-packages (from opentelemetry-exporter-otlp-proto-grpc>=1.2.0->chromadb) (1.38.0)\n",
            "Requirement already satisfied: opentelemetry-proto==1.38.0 in /usr/local/lib/python3.12/dist-packages (from opentelemetry-exporter-otlp-proto-grpc>=1.2.0->chromadb) (1.38.0)\n",
            "Requirement already satisfied: opentelemetry-semantic-conventions==0.59b0 in /usr/local/lib/python3.12/dist-packages (from opentelemetry-sdk>=1.2.0->chromadb) (0.59b0)\n",
            "Requirement already satisfied: backoff>=1.10.0 in /usr/local/lib/python3.12/dist-packages (from posthog<6.0.0,>=2.4.0->chromadb) (2.2.1)\n",
            "Requirement already satisfied: annotated-types>=0.6.0 in /usr/local/lib/python3.12/dist-packages (from pydantic<3.0.0,>=2.7.4->langchain) (0.7.0)\n",
            "Requirement already satisfied: pydantic-core==2.33.2 in /usr/local/lib/python3.12/dist-packages (from pydantic<3.0.0,>=2.7.4->langchain) (2.33.2)\n",
            "Requirement already satisfied: typing-inspection>=0.4.0 in /usr/local/lib/python3.12/dist-packages (from pydantic<3.0.0,>=2.7.4->langchain) (0.4.2)\n",
            "Requirement already satisfied: python-dotenv>=0.21.0 in /usr/local/lib/python3.12/dist-packages (from pydantic-settings<3.0.0,>=2.10.1->langchain_community) (1.1.1)\n",
            "Requirement already satisfied: charset_normalizer<4,>=2 in /usr/local/lib/python3.12/dist-packages (from requests<3,>=2->langchain) (3.4.3)\n",
            "Requirement already satisfied: markdown-it-py>=2.2.0 in /usr/local/lib/python3.12/dist-packages (from rich>=10.11.0->chromadb) (4.0.0)\n",
            "Requirement already satisfied: pygments<3.0.0,>=2.13.0 in /usr/local/lib/python3.12/dist-packages (from rich>=10.11.0->chromadb) (2.19.2)\n",
            "Requirement already satisfied: greenlet>=1 in /usr/local/lib/python3.12/dist-packages (from SQLAlchemy<3,>=1.4->langchain) (3.2.4)\n",
            "Requirement already satisfied: regex>=2022.1.18 in /usr/local/lib/python3.12/dist-packages (from tiktoken<1.0.0,>=0.7.0->langchain-openai) (2024.11.6)\n",
            "Requirement already satisfied: huggingface-hub<2.0,>=0.16.4 in /usr/local/lib/python3.12/dist-packages (from tokenizers>=0.13.2->chromadb) (0.35.3)\n",
            "Requirement already satisfied: click>=8.0.0 in /usr/local/lib/python3.12/dist-packages (from typer>=0.9.0->chromadb) (8.3.0)\n",
            "Requirement already satisfied: shellingham>=1.3.0 in /usr/local/lib/python3.12/dist-packages (from typer>=0.9.0->chromadb) (1.5.4)\n",
            "Requirement already satisfied: httptools>=0.6.3 in /usr/local/lib/python3.12/dist-packages (from uvicorn[standard]>=0.18.3->chromadb) (0.7.1)\n",
            "Requirement already satisfied: uvloop>=0.15.1 in /usr/local/lib/python3.12/dist-packages (from uvicorn[standard]>=0.18.3->chromadb) (0.21.0)\n",
            "Requirement already satisfied: watchfiles>=0.13 in /usr/local/lib/python3.12/dist-packages (from uvicorn[standard]>=0.18.3->chromadb) (1.1.1)\n",
            "Requirement already satisfied: websockets>=10.4 in /usr/local/lib/python3.12/dist-packages (from uvicorn[standard]>=0.18.3->chromadb) (15.0.1)\n",
            "Requirement already satisfied: cachetools<6.0,>=2.0.0 in /usr/local/lib/python3.12/dist-packages (from google-auth>=1.0.1->kubernetes>=28.1.0->chromadb) (5.5.2)\n",
            "Requirement already satisfied: pyasn1-modules>=0.2.1 in /usr/local/lib/python3.12/dist-packages (from google-auth>=1.0.1->kubernetes>=28.1.0->chromadb) (0.4.2)\n",
            "Requirement already satisfied: rsa<5,>=3.1.4 in /usr/local/lib/python3.12/dist-packages (from google-auth>=1.0.1->kubernetes>=28.1.0->chromadb) (4.9.1)\n",
            "Requirement already satisfied: filelock in /usr/local/lib/python3.12/dist-packages (from huggingface-hub<2.0,>=0.16.4->tokenizers>=0.13.2->chromadb) (3.20.0)\n",
            "Requirement already satisfied: fsspec>=2023.5.0 in /usr/local/lib/python3.12/dist-packages (from huggingface-hub<2.0,>=0.16.4->tokenizers>=0.13.2->chromadb) (2025.3.0)\n",
            "Requirement already satisfied: hf-xet<2.0.0,>=1.1.3 in /usr/local/lib/python3.12/dist-packages (from huggingface-hub<2.0,>=0.16.4->tokenizers>=0.13.2->chromadb) (1.1.10)\n",
            "Requirement already satisfied: zipp>=3.20 in /usr/local/lib/python3.12/dist-packages (from importlib-metadata<8.8.0,>=6.0->opentelemetry-api>=1.2.0->chromadb) (3.23.0)\n",
            "Requirement already satisfied: jsonpointer>=1.9 in /usr/local/lib/python3.12/dist-packages (from jsonpatch<2.0.0,>=1.33.0->langchain-core<1.0.0,>=0.3.72->langchain) (3.0.0)\n",
            "Requirement already satisfied: mdurl~=0.1 in /usr/local/lib/python3.12/dist-packages (from markdown-it-py>=2.2.0->rich>=10.11.0->chromadb) (0.1.2)\n",
            "Requirement already satisfied: mypy-extensions>=0.3.0 in /usr/local/lib/python3.12/dist-packages (from typing-inspect<1,>=0.4.0->dataclasses-json<0.7.0,>=0.6.7->langchain_community) (1.1.0)\n",
            "Requirement already satisfied: humanfriendly>=9.1 in /usr/local/lib/python3.12/dist-packages (from coloredlogs->onnxruntime>=1.14.1->chromadb) (10.0)\n",
            "Requirement already satisfied: oauthlib>=3.0.0 in /usr/local/lib/python3.12/dist-packages (from requests-oauthlib->kubernetes>=28.1.0->chromadb) (3.3.1)\n",
            "Requirement already satisfied: mpmath<1.4,>=1.1.0 in /usr/local/lib/python3.12/dist-packages (from sympy->onnxruntime>=1.14.1->chromadb) (1.3.0)\n",
            "Requirement already satisfied: pyasn1<0.7.0,>=0.6.1 in /usr/local/lib/python3.12/dist-packages (from pyasn1-modules>=0.2.1->google-auth>=1.0.1->kubernetes>=28.1.0->chromadb) (0.6.1)\n"
          ]
        }
      ],
      "source": [
        "!pip install langchain langchain_community langchainhub langchain-openai chromadb"
      ]
    },
    {
      "cell_type": "code",
      "source": [
        "from google.colab import userdata\n",
        "import os\n",
        "os.environ['GROQ_API_KEY'] = userdata.get('groqApiKey')"
      ],
      "metadata": {
        "id": "X-3VmBJDjszG"
      },
      "execution_count": null,
      "outputs": []
    },
    {
      "cell_type": "markdown",
      "source": [
        "\n",
        "Web Scrapping"
      ],
      "metadata": {
        "id": "H23StXwOpwYE"
      }
    },
    {
      "cell_type": "code",
      "source": [
        "from langchain_community.document_loaders import WebBaseLoader\n",
        "\n",
        "loader = WebBaseLoader(web_path=[\"https://www.gauravsharmamusic.com/?msg=not-logged-in\"])\n",
        "\n",
        "docs = loader.load()\n",
        "\n",
        "print(docs)"
      ],
      "metadata": {
        "colab": {
          "base_uri": "https://localhost:8080/"
        },
        "id": "wGt8NjpNmK2l",
        "outputId": "d64a8652-29ef-43b5-9f95-6b64f9784ef0"
      },
      "execution_count": null,
      "outputs": [
        {
          "output_type": "stream",
          "name": "stdout",
          "text": [
            "[Document(metadata={'source': 'https://www.gauravsharmamusic.com/?msg=not-logged-in', 'title': 'Home', 'language': 'en'}, page_content=\"\\n\\n\\n\\nHome\\n\\n\\n\\n\\n\\n\\n\\n\\n\\n\\n\\n\\n\\n\\n\\n\\n\\n\\n\\n\\n\\n\\n\\n\\n\\n\\n\\n\\n\\n\\n\\n\\n\\n\\n\\n\\n\\n\\n\\n\\n\\n\\n\\n\\n\\n\\n\\n\\n\\n\\n\\n\\n\\n\\n\\n\\n\\n\\n\\n\\n\\n\\n\\n\\n\\n\\n\\n\\n\\n\\n\\n\\n\\n\\n\\n\\n\\nSign in\\n\\n\\n\\n\\nHome\\n\\n\\n\\n\\nCourses\\n\\n\\n\\n\\nBundles\\n\\n\\n\\n\\nLive Classes\\n\\n\\n\\n\\n\\n\\n\\n\\n\\n\\n\\n\\n\\n\\n\\n\\n\\n\\n\\n\\n\\n\\n\\n\\n\\n\\n\\n\\n\\n\\n\\n\\n\\n\\n\\n\\n\\n\\n\\n\\n\\n\\n\\n\\n\\n\\n\\n\\n\\n\\n\\n\\n\\nHi, I'm Gaurav Sharma\\n\\n\\n\\n\\n\\n\\n    Singer-Songwriter\\nA passionate musical storyteller, with song releases on multiple streaming platforms\\n\\n\\nMusician\\nA skilled Multi Instrumentalist and musician, exploring the vast world of music, crafting harmonious tunes for over a decade\\n\\n\\n\\n\\n\\n\\n\\n\\n\\nYouTuber\\nContent Creator creating engaging content, including tutorials &\\xa0covers with a community of over 250K+ Followers across Social Media\\n\\n\\n\\n    Music Educator\\nA dedicated guide on your musical journey, imparting knowledge and fostering a love for music through comprehensive education and insightful lessons.\\n\\n\\n\\n\\n\\n\\n\\n\\nMusic has always been a part of my life since childhood. I couldn't resist trying everything. Guitars, drums, Ukulele you name it – I dabbled in them all!The deeper I dug into music, the more there was to find! It was like a treasure chest overflowing with cool stuff, and I just had to share it with everyone. That's how my YouTube channel started, this little corner of the internet that somehow exploded into a massive community of 200,000 music lovers! Crazy, right?\\n\\n\\n\\n\\n\\n\\n\\n\\n\\n\\n\\n\\n\\n\\n\\n\\nThis small town called Tuticorin in Tamil Nadu is where I was born and brought up in! This small town taught me how to keep calm in chaos.\\xa0Woke up to the smell of sandalwood and the sound of temple bells and Kandar Shasti Kavacham\\n    My Story!\\n\\n    The Beginning!\\nThis cool dude in the left is me. I was born in this small coastal town of Tamil Nadu called Tuticorin.\\xa0Lived the slow life, grew up loving 2 things, Rhythm & Rasam and then eating Arun Ice Cream (Ball wala),\\xa0\\n\\n\\n\\n\\n\\n\\n\\n\\n\\n\\n    Drummer Phase!\\nContrary to popular belief, the legend is that I actually started off as a drummer.\\xa0Kahaani kuch aisi hai ki ek din school se ghar jaate waqt mere dost ne mujhe uske drums class mein bulaya,\\xa0I went to see him for fun, ended up joining the class myself.\\n\\n\\n\\n\\n\\n\\n\\nWrite your awesome label here.\\n\\n\\n\\n\\n\\n\\n\\n\\n\\n\\n\\n\\n\\n\\n\\n\\n\\nWrite your awesome label here.\\n\\n\\n\\n\\n\\n\\n\\n\\n\\n\\n\\n    My First Live Show!\\nThis is one of my favorite days of my entire life. The only performance I remember where I was in a flow state.\\xa0Enjoying every second, not caring what the world thought about me.\\xa0Goals.\\n\\n\\n\\n\\n\\n\\n\\n\\n\\n\\n\\n    the story\\nHow a Guitar Changed Everything.\\nNow suddenly, 2 years into drums one day I notice that my friend switched to guitar classes.\\xa0So what do I do? I switch to guitar too and never looked back.\\xa0This is how I ended up discovering this beautiful instrument and let it completely take over meFor someone who was extremely shy and low on self confidence, This instrument made me feel like a superhero.\\xa0Because suddenly when I had a guitar in my hand, I was the one people were waiting to listen to,\\xa0ME! the guy who faded into the corner of every room\\n\\n\\n\\n\\n\\n\\n\\n\\nKM Music Conservatory - 2014\\n\\n\\n\\n\\n\\n\\n\\n\\n\\n\\n\\n\\n\\nBerklee College Of Music - 2017\\n\\n\\n\\n\\n\\n\\n\\n\\n\\n\\n\\n\\n\\n\\n\\nKM Music Conservatory - 2015\\n\\n\\n\\n\\n\\n\\n\\n\\n\\n\\n\\n\\n\\n\\n\\n\\n\\n\\n\\n\\n\\n\\n\\n\\n\\nKM Music Conservatory - 2015\\n\\n\\n\\n\\n\\n\\n\\n\\n\\n\\n\\n\\n\\n\\nKM Music Conservatory - 2014\\n\\n\\n\\n\\n\\n\\n\\n\\n\\n\\n\\n\\n\\nKM Music Conservatory - 2016\\n\\n\\n\\n\\n\\n\\n\\n\\n\\n\\n\\n\\n    the story\\nMy Time at KM\\nMy love for the guitar continued into college and eventually led me to discover this heaven on earth in Chennai,\\xa0KM College of Music, an institute founded by A.R. Rahman.This place felt like home, helped me meet like-minded musicians, and for the first time, made me feel like I was finally around people like me.This here is a core memory from KM.\\xa0Almost every day looked like this,Musicians breaking into random, impromptu jams in the common hallway.\\xa0We spent so much time here, the security guards had to literally push us out every evening\\n\\n\\n\\n\\n\\n\\n\\n\\n\\n\\n    The Story Of My First Electric Guitar\\nIt was the summer of 2010. I had just finished my 10th boards, and my brother had come home from college. One evening, casually, he asked me, “Hey, my friend has an electric guitar and an amp lying around… do you want it?”I froze.He said it was a Fender. My jaw dropped. A Fender?! I couldn’t believe it. Of course, it turned out to be a Squier, not a Fender but to me, that didn’t matter. That was my first ever electric guitar. I still remember holding it for the first time, plugging it in, and feeling like I had just unlocked a whole new world.That one moment changed the direction of my life.\\n\\n\\n\\n\\n\\n\\n\\nWrite your awesome label here.\\n\\n\\n\\n\\n\\n\\n\\n\\n\\n\\n\\n\\n\\n\\n\\n\\n\\n\\n\\n\\n    over the years\\n\\n    The Guitar took me places.\\nWhat started as random riffs in my room slowly turned into something bigger. That first electric guitar took me places, literally. I found myself studying music at KM Music Conservatory in Chennai, and even walked the halls of Berklee College of Music during a summer program. Every step, every place, every photo here was because of that one spark.\\n\\n\\n\\n\\n\\n\\n\\n\\nKM Music Conservatory - 2014\\n\\n\\n\\n\\n\\n\\n\\n\\n\\n\\n\\n\\n\\nBerklee College Of Music - 2017\\n\\n\\n\\n\\n\\n\\n\\n\\n\\n\\n\\n\\n\\n\\n\\nKM Music Conservatory - 2015\\n\\n\\n\\n\\n\\n\\n\\n\\n\\n\\n\\n\\n\\n\\n\\n\\n\\n\\n\\n\\n\\nCheck out all my Courses\\n\\n\\n\\n\\n\\n\\n\\n\\n\\n\\n\\n\\n\\n\\n\\n\\n\\n\\n\\n            Thankyou For The Love!\\n\\n\\n\\n\\n\\n\\n\\nWrite your awesome label here.\\n\\n\\n\\n\\n\\n\\n\\n\\n\\n\\n\\n\\n\\n\\n\\nWrite your awesome label here.\\n\\n\\n\\n\\n\\n\\n\\n\\n\\n\\n\\n\\n\\n\\n\\n\\n\\nWrite your awesome label here.\\n\\n\\n\\n\\n\\n\\n\\n\\n\\n\\n\\n\\n\\nWrite your awesome label here.\\n\\n\\n\\n\\n\\n\\n\\n\\n\\n\\n\\n\\n\\n\\n\\nWrite your awesome label here.\\n\\n\\n\\n\\n\\n\\n\\n\\n\\n\\n\\n\\n\\n\\n\\n\\n\\n\\n\\n\\n\\n\\n\\n\\n\\n\\n\\n\\n\\n\\n\\n\\n\\n\\n\\n\\n\\n\\n\\n\\nSocial accounts\\n\\n\\n\\n\\n\\n\\n\\n\\n\\n\\n\\n\\n\\n\\n\\n\\n\\n\\n\\n\\n\\n\\n\\n\\n\\nPrivacy PolicyCookie PolicyTerms & ConditionsRefund Policy\\n\\n\\nGet in touch\\n\\n\\n\\n\\nhello@gauravsharmamusic.com\\n\\n\\n\\n\\n+91 8220705800\\n\\n\\nMonday - Saturday 10 Am - 6PM\\xa0\\n\\n\\nOur Newsletter\\n\\n                    Get weekly updates on live streams, news, tips & tricks and more.\\n                \\n\\n\\n\\n\\n\\n\\n\\n\\n\\nJoin us now!\\n\\n\\n\\n\\n\\n\\n\\n\\n\\n\\n\\nI would like to receive news, tips and tricks, and other promotional material\\n\\n\\n\\n\\n\\n\\n\\n\\n    Thank you!\\n\\n\\n\\n\\n\\n\\n\\n\\n\\n                Copyright © 2025\\n            \\n\\n\\n\\n\\n\\n\\n\\n\\n\\n\\n\\n\\n\\n\\n\\n\\n\\n\\n\\n\\n\\n\\n\\n\\n\\n\\n\\n\\n\\n\\n\\n\\n\\n\\n\\n\\n\\n\\n\\n\\n\\n\\n\\n\\n\\n\\n\\n\\n\\n\\n\\n\\n\\n\\n\\n\\n\\n\\n\\n\\n\\n\\n\\n\\n\\n\\nLogin or sign up to start learning\\nLogin to start learning\\n\\nStart learning\\n\\n\\n\\n\\n\\n\\n\\n\\n\\n\\n\\n\\n\\n\\n\\n\\n\\n\\n\\n\\n\\n\\n\\n\\n\\n\\n\\n\\n\\n\\n\\n\\n\\n\\nor\\n\\n\\n\\n\\n\\n\\n\\n\\nWhat's your e-mail?\\n\\n\\n\\nYour password?\\n\\n\\n\\n\\n\\n\\n\\n\\n\\n\\nLogin\\n\\n\\n\\n\\nCreate Accounta new account for free\\n\\n\\nForgot your password?\\n\\n\\n\\n \\n\\n\\n\\n\\n \\n\\n \\n\\n\\n\\n\\nSign up to Gaurav Sharma Music!\\n\\n\\n\\n\\n\\n\\n\\n\\n\\n\\n\\n\\n\\n\\n\\n\\n\\n\\n\\n\\n\\n\\n\\n\\n\\n\\n\\n\\n\\n\\n\\n\\n\\n\\n\\n\\n\\n\\n\\n\\n\\n\\n\\n\\n\\n\\n\\n\\n\\n\\n\\n\\n\\nor\\n\\n\\n\\n\\n\\n\\nclick to upload avatar\\n\\n\\n\\n\\nWhat's your name?\\n\\n\\n\\n\\nWhat's your e-mail?\\n\\n\\n\\nYour password?\\n\\n\\n\\nYour phone number?\\n\\n\\n\\nYour address?\\n\\n\\n\\nYour country?\\n\\n\\n\\nYour country?\\n\\n\\nCountry\\nAfghanistan\\nÅland Islands\\nAlbania\\nAlgeria\\nAmerican Samoa\\nAndorra\\nAngola\\nAnguilla\\nAntarctica\\nAntigua and Barbuda\\nArgentina\\nArmenia\\nAruba\\nAustralia\\nAustria\\nAzerbaijan\\nBahamas\\nBahrain\\nBangladesh\\nBarbados\\nBelarus\\nBelgium\\nBelize\\nBenin\\nBermuda\\nBhutan\\nBolivia, Plurinational State of\\nBonaire, Sint Eustatius and Saba\\nBosnia and Herzegovina\\nBotswana\\nBouvet Island\\nBrazil\\nBritish Indian Ocean Territory\\nBrunei Darussalam\\nBulgaria\\nBurkina Faso\\nBurundi\\nCambodia\\nCameroon\\nCanada\\nCape Verde\\nCayman Islands\\nCentral African Republic\\nChad\\nChile\\nChina\\nChristmas Island\\nCocos (Keeling) Islands\\nColombia\\nComoros\\nCongo\\nCongo, the Democratic Republic of the\\nCook Islands\\nCosta Rica\\nCôte d'Ivoire\\nCroatia\\nCuba\\nCuraçao\\nCyprus\\nCzech Republic\\nDenmark\\nDjibouti\\nDominica\\nDominican Republic\\nEcuador\\nEgypt\\nEl Salvador\\nEquatorial Guinea\\nEritrea\\nEstonia\\nEthiopia\\nFalkland Islands (Malvinas)\\nFaroe Islands\\nFiji\\nFinland\\nFrance\\nFrench Guiana\\nFrench Polynesia\\nFrench Southern Territories\\nGabon\\nGambia\\nGeorgia\\nGermany\\nGhana\\nGibraltar\\nGreece\\nGreenland\\nGrenada\\nGuadeloupe\\nGuam\\nGuatemala\\nGuernsey\\nGuinea\\nGuinea-Bissau\\nGuyana\\nHaiti\\nHeard Island and McDonald Islands\\nHoly See (Vatican City State)\\nHonduras\\nHong Kong\\nHungary\\nIceland\\nIndia\\nIndonesia\\nIran, Islamic Republic of\\nIraq\\nIreland\\nIsle of Man\\nIsrael\\nItaly\\nJamaica\\nJapan\\nJersey\\nJordan\\nKazakhstan\\nKenya\\nKiribati\\nKorea, Democratic People's Republic of\\nKorea, Republic of\\nKuwait\\nKyrgyzstan\\nLao People's Democratic Republic\\nLatvia\\nLebanon\\nLesotho\\nLiberia\\nLibya\\nLiechtenstein\\nLithuania\\nLuxembourg\\nMacao\\nMacedonia, the former Yugoslav Republic of\\nMadagascar\\nMalawi\\nMalaysia\\nMaldives\\nMali\\nMalta\\nMarshall Islands\\nMartinique\\nMauritania\\nMauritius\\nMayotte\\nMexico\\nMicronesia, Federated States of\\nMoldova, Republic of\\nMonaco\\nMongolia\\nMontenegro\\nMontserrat\\nMorocco\\nMozambique\\nMyanmar\\nNamibia\\nNauru\\nNepal\\nNetherlands\\nNew Caledonia\\nNew Zealand\\nNicaragua\\nNiger\\nNigeria\\nNiue\\nNorfolk Island\\nNorthern Mariana Islands\\nNorway\\nOman\\nPakistan\\nPalau\\nPalestinian Territory, Occupied\\nPanama\\nPapua New Guinea\\nParaguay\\nPeru\\nPhilippines\\nPitcairn\\nPoland\\nPortugal\\nPuerto Rico\\nQatar\\nRéunion\\nRomania\\nRussian Federation\\nRwanda\\nSaint Barthélemy\\nSaint Helena, Ascension and Tristan da Cunha\\nSaint Kitts and Nevis\\nSaint Lucia\\nSaint Martin (French part)\\nSaint Pierre and Miquelon\\nSaint Vincent and the Grenadines\\nSamoa\\nSan Marino\\nSao Tome and Principe\\nSaudi Arabia\\nSenegal\\nSerbia\\nSeychelles\\nSierra Leone\\nSingapore\\nSint Maarten (Dutch part)\\nSlovakia\\nSlovenia\\nSolomon Islands\\nSomalia\\nSouth Africa\\nSouth Georgia and the South Sandwich Islands\\nSouth Sudan\\nSpain\\nSri Lanka\\nSudan\\nSuriname\\nSvalbard and Jan Mayen\\nSwaziland\\nSweden\\nSwitzerland\\nSyrian Arab Republic\\nTaiwan, Province of China\\nTajikistan\\nTanzania, United Republic of\\nThailand\\nTimor-Leste\\nTogo\\nTokelau\\nTonga\\nTrinidad and Tobago\\nTunisia\\nTurkey\\nTurkmenistan\\nTurks and Caicos Islands\\nTuvalu\\nUganda\\nUkraine\\nUnited Arab Emirates\\nUnited Kingdom\\nUnited States\\nUnited States Minor Outlying Islands\\nUruguay\\nUzbekistan\\nVanuatu\\nVenezuela, Bolivarian Republic of\\nViet Nam\\nVirgin Islands, British\\nVirgin Islands, U.S.\\nWallis and Futuna\\nWestern Sahara\\nYemen\\nZambia\\nZimbabwe\\n\\n\\n\\n \\nYour birthday?\\n\\n\\n\\nYour company name?\\n\\n\\n\\nYour company size?\\n\\n\\nCompany Size\\n1-10\\n11-25\\n26-50\\n51-100\\n101-200\\n201-500\\n500+\\n\\n\\n\\n\\nYour Profession?\\n\\n\\nProfession\\nArchitect\\nContractor\\nEngineer\\nFacility mgmt\\nOther\\nPrivate\\nPromoter\\nArchitekt\\nAuftragnehmer\\nIngenieur\\nFacility mgmt\\nAndere\\nPrivat\\nProjektträger\\nArchitect\\nAannemer\\nIngenieur\\nFacility Manager\\nAndere\\nPrivé\\nPromotor\\nArchitecte\\nEntrepreneur\\nIngénieur\\nGestionnaire d'installation\\nAutre\\nParticulier\\nPromoteur\\n\\n\\n\\n\\nYour website?\\n\\n\\n\\nYour university?\\n\\n\\n\\nYour graduation year?\\n\\n\\n\\n\\n\\n\\nI accept the\\nTerms & Conditions\\n\\n\\n\\n\\n\\n\\nI would like to receive news, tips and tricks, and other promotional material\\n\\n\\n\\n\\n\\n\\n\\n\\n\\n\\n\\n\\nStart your learning journey\\n\\n\\n\\nSign in with your account\\n\\n\\nForgot your password?\\n\\n\\n\\n\\n\\nor\\n\\n\\n\\n\\n\\n\\n\\nGet a brand new password!\\n\\n\\nWhat's your e-mail?\\n\\n\\n\\n\\n\\n\\n\\n\\n\\n\\n\\n\\n\\nOK\\n\\n\\nCancel\\n\\n\\n\\n\\n\\n\\n\\n\\n\\n        Enter your brand new password\\n    \\n\\n\\n\\nEnter it below, please\\n\\n\\n\\nEnter it once more, please\\n\\n\\n\\n\\n\\n\\n\\n\\n\\n\\nOK\\n\\n\\nCancel\\n\\n\\n\\n\\n\\n\\n\\n\\n\\n\\n\\n\\n\")]\n"
          ]
        }
      ]
    },
    {
      "cell_type": "markdown",
      "source": [
        "Splitting the text\n"
      ],
      "metadata": {
        "id": "EPt_WzhhslTc"
      }
    },
    {
      "cell_type": "code",
      "source": [
        "from langchain.text_splitter import RecursiveCharacterTextSplitter\n",
        "\n",
        "text_splitter = RecursiveCharacterTextSplitter(chunk_size = 2000, chunk_overlap=500)\n",
        "\n",
        "splits = text_splitter.split_documents(docs)"
      ],
      "metadata": {
        "id": "G5tT897Wp0d1"
      },
      "execution_count": null,
      "outputs": []
    },
    {
      "cell_type": "code",
      "source": [
        "print(splits[3])\n"
      ],
      "metadata": {
        "colab": {
          "base_uri": "https://localhost:8080/"
        },
        "id": "fsV9l2eVraJs",
        "outputId": "626c1edb-08eb-4f3f-e528-c9e3c954b952"
      },
      "execution_count": null,
      "outputs": [
        {
          "output_type": "stream",
          "name": "stdout",
          "text": [
            "page_content='Write your awesome label here.\n",
            "\n",
            "\n",
            "\n",
            "\n",
            "\n",
            "\n",
            "\n",
            "\n",
            "\n",
            "\n",
            "\n",
            "\n",
            "\n",
            "\n",
            "\n",
            "\n",
            "\n",
            "\n",
            "\n",
            "\n",
            "    over the years\n",
            "\n",
            "    The Guitar took me places.\n",
            "What started as random riffs in my room slowly turned into something bigger. That first electric guitar took me places, literally. I found myself studying music at KM Music Conservatory in Chennai, and even walked the halls of Berklee College of Music during a summer program. Every step, every place, every photo here was because of that one spark.\n",
            "\n",
            "\n",
            "\n",
            "\n",
            "\n",
            "\n",
            "\n",
            "\n",
            "KM Music Conservatory - 2014\n",
            "\n",
            "\n",
            "\n",
            "\n",
            "\n",
            "\n",
            "\n",
            "\n",
            "\n",
            "\n",
            "\n",
            "\n",
            "\n",
            "Berklee College Of Music - 2017\n",
            "\n",
            "\n",
            "\n",
            "\n",
            "\n",
            "\n",
            "\n",
            "\n",
            "\n",
            "\n",
            "\n",
            "\n",
            "\n",
            "\n",
            "\n",
            "KM Music Conservatory - 2015\n",
            "\n",
            "\n",
            "\n",
            "\n",
            "\n",
            "\n",
            "\n",
            "\n",
            "\n",
            "\n",
            "\n",
            "\n",
            "\n",
            "\n",
            "\n",
            "\n",
            "\n",
            "\n",
            "\n",
            "\n",
            "\n",
            "Check out all my Courses\n",
            "\n",
            "\n",
            "\n",
            "\n",
            "\n",
            "\n",
            "\n",
            "\n",
            "\n",
            "\n",
            "\n",
            "\n",
            "\n",
            "\n",
            "\n",
            "\n",
            "\n",
            "\n",
            "\n",
            "            Thankyou For The Love!\n",
            "\n",
            "\n",
            "\n",
            "\n",
            "\n",
            "\n",
            "\n",
            "Write your awesome label here.\n",
            "\n",
            "\n",
            "\n",
            "\n",
            "\n",
            "\n",
            "\n",
            "\n",
            "\n",
            "\n",
            "\n",
            "\n",
            "\n",
            "\n",
            "\n",
            "Write your awesome label here.\n",
            "\n",
            "\n",
            "\n",
            "\n",
            "\n",
            "\n",
            "\n",
            "\n",
            "\n",
            "\n",
            "\n",
            "\n",
            "\n",
            "\n",
            "\n",
            "\n",
            "\n",
            "Write your awesome label here.\n",
            "\n",
            "\n",
            "\n",
            "\n",
            "\n",
            "\n",
            "\n",
            "\n",
            "\n",
            "\n",
            "\n",
            "\n",
            "\n",
            "Write your awesome label here.\n",
            "\n",
            "\n",
            "\n",
            "\n",
            "\n",
            "\n",
            "\n",
            "\n",
            "\n",
            "\n",
            "\n",
            "\n",
            "\n",
            "\n",
            "\n",
            "Write your awesome label here.\n",
            "\n",
            "\n",
            "\n",
            "\n",
            "\n",
            "\n",
            "\n",
            "\n",
            "\n",
            "\n",
            "\n",
            "\n",
            "\n",
            "\n",
            "\n",
            "\n",
            "\n",
            "\n",
            "\n",
            "\n",
            "\n",
            "\n",
            "\n",
            "\n",
            "\n",
            "\n",
            "\n",
            "\n",
            "\n",
            "\n",
            "\n",
            "\n",
            "\n",
            "\n",
            "\n",
            "\n",
            "\n",
            "\n",
            "\n",
            "\n",
            "Social accounts\n",
            "\n",
            "\n",
            "\n",
            "\n",
            "\n",
            "\n",
            "\n",
            "\n",
            "\n",
            "\n",
            "\n",
            "\n",
            "\n",
            "\n",
            "\n",
            "\n",
            "\n",
            "\n",
            "\n",
            "\n",
            "\n",
            "\n",
            "\n",
            "\n",
            "\n",
            "Privacy PolicyCookie PolicyTerms & ConditionsRefund Policy\n",
            "\n",
            "\n",
            "Get in touch\n",
            "\n",
            "\n",
            "\n",
            "\n",
            "hello@gauravsharmamusic.com\n",
            "\n",
            "\n",
            "\n",
            "\n",
            "+91 8220705800\n",
            "\n",
            "\n",
            "Monday - Saturday 10 Am - 6PM \n",
            "\n",
            "\n",
            "Our Newsletter\n",
            "\n",
            "                    Get weekly updates on live streams, news, tips & tricks and more.\n",
            "                \n",
            "\n",
            "\n",
            "\n",
            "\n",
            "\n",
            "\n",
            "\n",
            "\n",
            "\n",
            "Join us now!\n",
            "\n",
            "\n",
            "\n",
            "\n",
            "\n",
            "\n",
            "\n",
            "\n",
            "\n",
            "\n",
            "\n",
            "I would like to receive news, tips and tricks, and other promotional material\n",
            "\n",
            "\n",
            "\n",
            "\n",
            "\n",
            "\n",
            "\n",
            "\n",
            "    Thank you!\n",
            "\n",
            "\n",
            "\n",
            "\n",
            "\n",
            "\n",
            "\n",
            "\n",
            "\n",
            "                Copyright © 2025\n",
            "            \n",
            "\n",
            "\n",
            "\n",
            "\n",
            "\n",
            "\n",
            "\n",
            "\n",
            "\n",
            "\n",
            "\n",
            "\n",
            "\n",
            "\n",
            "\n",
            "\n",
            "\n",
            "\n",
            "\n",
            "\n",
            "\n",
            "\n",
            "\n",
            "\n",
            "\n",
            "\n",
            "\n",
            "\n",
            "\n",
            "\n",
            "\n",
            "\n",
            "\n",
            "\n",
            "\n",
            "\n",
            "\n",
            "\n",
            "\n",
            "\n",
            "\n",
            "\n",
            "\n",
            "\n",
            "\n",
            "\n",
            "\n",
            "\n",
            "\n",
            "\n",
            "\n",
            "\n",
            "\n",
            "\n",
            "\n",
            "\n",
            "\n",
            "\n",
            "\n",
            "\n",
            "\n",
            "\n",
            "\n",
            "\n",
            "\n",
            "\n",
            "Login or sign up to start learning\n",
            "Login to start learning\n",
            "\n",
            "Start learning\n",
            "\n",
            "\n",
            "\n",
            "\n",
            "\n",
            "\n",
            "\n",
            "\n",
            "\n",
            "\n",
            "\n",
            "\n",
            "\n",
            "\n",
            "\n",
            "\n",
            "\n",
            "\n",
            "\n",
            "\n",
            "\n",
            "\n",
            "\n",
            "\n",
            "\n",
            "\n",
            "\n",
            "\n",
            "\n",
            "\n",
            "\n",
            "\n",
            "\n",
            "\n",
            "or\n",
            "\n",
            "\n",
            "\n",
            "\n",
            "\n",
            "\n",
            "\n",
            "\n",
            "What's your e-mail?\n",
            "\n",
            "\n",
            "\n",
            "Your password?\n",
            "\n",
            "\n",
            "\n",
            "\n",
            "\n",
            "\n",
            "\n",
            "\n",
            "\n",
            "\n",
            "Login\n",
            "\n",
            "\n",
            "\n",
            "\n",
            "Create Accounta new account for free\n",
            "\n",
            "\n",
            "Forgot your password?\n",
            "\n",
            "\n",
            "\n",
            " \n",
            "\n",
            "\n",
            "\n",
            "\n",
            " \n",
            "\n",
            " \n",
            "\n",
            "\n",
            "\n",
            "\n",
            "Sign up to Gaurav Sharma Music!\n",
            "\n",
            "\n",
            "\n",
            "\n",
            "\n",
            "\n",
            "\n",
            "\n",
            "\n",
            "\n",
            "\n",
            "\n",
            "\n",
            "\n",
            "\n",
            "\n",
            "\n",
            "\n",
            "\n",
            "\n",
            "\n",
            "\n",
            "\n",
            "\n",
            "\n",
            "\n",
            "\n",
            "\n",
            "\n",
            "\n",
            "\n",
            "\n",
            "\n",
            "\n",
            "\n",
            "\n",
            "\n",
            "\n",
            "\n",
            "\n",
            "\n",
            "\n",
            "\n",
            "\n",
            "\n",
            "\n",
            "\n",
            "\n",
            "\n",
            "\n",
            "\n",
            "\n",
            "\n",
            "or\n",
            "\n",
            "\n",
            "\n",
            "\n",
            "\n",
            "\n",
            "click to upload avatar\n",
            "\n",
            "\n",
            "\n",
            "\n",
            "What's your name?\n",
            "\n",
            "\n",
            "\n",
            "\n",
            "What's your e-mail?\n",
            "\n",
            "\n",
            "\n",
            "Your password?\n",
            "\n",
            "\n",
            "\n",
            "Your phone number?\n",
            "\n",
            "\n",
            "\n",
            "Your address?' metadata={'source': 'https://www.gauravsharmamusic.com/?msg=not-logged-in', 'title': 'Home', 'language': 'en'}\n"
          ]
        }
      ]
    },
    {
      "cell_type": "code",
      "source": [
        "print(len(splits))"
      ],
      "metadata": {
        "colab": {
          "base_uri": "https://localhost:8080/"
        },
        "id": "XiPq9ci6rmE7",
        "outputId": "d01f82f6-47b2-4d84-9ae2-35719657a1db"
      },
      "execution_count": null,
      "outputs": [
        {
          "output_type": "stream",
          "name": "stdout",
          "text": [
            "8\n"
          ]
        }
      ]
    },
    {
      "cell_type": "code",
      "source": [
        "# from langchain.embeddings.openai import OpenAIEmbeddings\n",
        "# from langchain.vectorstores import Chroma\n",
        "\n",
        "# vectorstore = Chroma.from_documents(documents=splits, embedding=OpenAIEmbeddings())"
      ],
      "metadata": {
        "id": "hX1eJGrbsmlW"
      },
      "execution_count": null,
      "outputs": []
    },
    {
      "cell_type": "markdown",
      "source": [
        "Storing in VectorDB\n"
      ],
      "metadata": {
        "id": "C48rwgk0xJ70"
      }
    },
    {
      "cell_type": "code",
      "source": [
        "from langchain_community.embeddings import HuggingFaceEmbeddings\n",
        "from langchain.vectorstores import Chroma\n",
        "\n",
        "embeddings = HuggingFaceEmbeddings(model_name=\"all-MiniLM-L6-v2\")\n",
        "vectorstore = Chroma.from_documents(documents=splits, embedding=embeddings)\n"
      ],
      "metadata": {
        "colab": {
          "base_uri": "https://localhost:8080/"
        },
        "id": "NktsgVu0t1H2",
        "outputId": "9529f27d-e77a-4d85-f100-26b11d0d9156"
      },
      "execution_count": null,
      "outputs": [
        {
          "output_type": "stream",
          "name": "stderr",
          "text": [
            "/tmp/ipython-input-2929520059.py:4: LangChainDeprecationWarning: The class `HuggingFaceEmbeddings` was deprecated in LangChain 0.2.2 and will be removed in 1.0. An updated version of the class exists in the :class:`~langchain-huggingface package and should be used instead. To use it run `pip install -U :class:`~langchain-huggingface` and import as `from :class:`~langchain_huggingface import HuggingFaceEmbeddings``.\n",
            "  embeddings = HuggingFaceEmbeddings(model_name=\"all-MiniLM-L6-v2\")\n",
            "/usr/local/lib/python3.12/dist-packages/huggingface_hub/utils/_auth.py:94: UserWarning: \n",
            "The secret `HF_TOKEN` does not exist in your Colab secrets.\n",
            "To authenticate with the Hugging Face Hub, create a token in your settings tab (https://huggingface.co/settings/tokens), set it as secret in your Google Colab and restart your session.\n",
            "You will be able to reuse this secret in all of your notebooks.\n",
            "Please note that authentication is recommended but still optional to access public models or datasets.\n",
            "  warnings.warn(\n"
          ]
        }
      ]
    },
    {
      "cell_type": "code",
      "source": [
        "print(vectorstore._collection.count())"
      ],
      "metadata": {
        "colab": {
          "base_uri": "https://localhost:8080/"
        },
        "id": "-wqAaRA2v-5v",
        "outputId": "e755bdea-2542-4912-fded-0446fcb3cdfd"
      },
      "execution_count": null,
      "outputs": [
        {
          "output_type": "stream",
          "name": "stdout",
          "text": [
            "8\n"
          ]
        }
      ]
    },
    {
      "cell_type": "code",
      "source": [
        "print(vectorstore._collection.get())"
      ],
      "metadata": {
        "colab": {
          "base_uri": "https://localhost:8080/"
        },
        "id": "E4Q5KB75xMQw",
        "outputId": "03c1e97c-4689-4b72-a521-34084bcad0f9"
      },
      "execution_count": null,
      "outputs": [
        {
          "output_type": "stream",
          "name": "stdout",
          "text": [
            "{'ids': ['665b9b2c-d188-43ef-8ce4-ad23cd6b86d5', 'f0fd25f5-f5bf-4976-abce-62066c419da3', '11667f7c-ccf7-4b62-aea4-a9e880784977', '297d15a6-5f27-4c5e-bc41-b79497ee3ec4', '3462531d-6414-418b-939a-a4bc50f65369', '9faa42fb-1916-4b6d-a7b9-e5fc620307b6', 'f20b4bb0-83e9-454c-b1be-d869bbbf5747', 'fc744ec8-1615-45a7-a7fb-47a6b7e8b8a9'], 'embeddings': None, 'documents': [\"Home\\n\\n\\n\\n\\n\\n\\n\\n\\n\\n\\n\\n\\n\\n\\n\\n\\n\\n\\n\\n\\n\\n\\n\\n\\n\\n\\n\\n\\n\\n\\n\\n\\n\\n\\n\\n\\n\\n\\n\\n\\n\\n\\n\\n\\n\\n\\n\\n\\n\\n\\n\\n\\n\\n\\n\\n\\n\\n\\n\\n\\n\\n\\n\\n\\n\\n\\n\\n\\n\\n\\n\\n\\n\\n\\n\\n\\n\\nSign in\\n\\n\\n\\n\\nHome\\n\\n\\n\\n\\nCourses\\n\\n\\n\\n\\nBundles\\n\\n\\n\\n\\nLive Classes\\n\\n\\n\\n\\n\\n\\n\\n\\n\\n\\n\\n\\n\\n\\n\\n\\n\\n\\n\\n\\n\\n\\n\\n\\n\\n\\n\\n\\n\\n\\n\\n\\n\\n\\n\\n\\n\\n\\n\\n\\n\\n\\n\\n\\n\\n\\n\\n\\n\\n\\n\\n\\n\\nHi, I'm Gaurav Sharma\\n\\n\\n\\n\\n\\n\\n    Singer-Songwriter\\nA passionate musical storyteller, with song releases on multiple streaming platforms\\n\\n\\nMusician\\nA skilled Multi Instrumentalist and musician, exploring the vast world of music, crafting harmonious tunes for over a decade\\n\\n\\n\\n\\n\\n\\n\\n\\n\\nYouTuber\\nContent Creator creating engaging content, including tutorials &\\xa0covers with a community of over 250K+ Followers across Social Media\\n\\n\\n\\n    Music Educator\\nA dedicated guide on your musical journey, imparting knowledge and fostering a love for music through comprehensive education and insightful lessons.\\n\\n\\n\\n\\n\\n\\n\\n\\nMusic has always been a part of my life since childhood. I couldn't resist trying everything. Guitars, drums, Ukulele you name it – I dabbled in them all!The deeper I dug into music, the more there was to find! It was like a treasure chest overflowing with cool stuff, and I just had to share it with everyone. That's how my YouTube channel started, this little corner of the internet that somehow exploded into a massive community of 200,000 music lovers! Crazy, right?\\n\\n\\n\\n\\n\\n\\n\\n\\n\\n\\n\\n\\n\\n\\n\\n\\nThis small town called Tuticorin in Tamil Nadu is where I was born and brought up in! This small town taught me how to keep calm in chaos.\\xa0Woke up to the smell of sandalwood and the sound of temple bells and Kandar Shasti Kavacham\\n    My Story!\\n\\n    The Beginning!\\nThis cool dude in the left is me. I was born in this small coastal town of Tamil Nadu called Tuticorin.\\xa0Lived the slow life, grew up loving 2 things, Rhythm & Rasam and then eating Arun Ice Cream (Ball wala),\", 'This small town called Tuticorin in Tamil Nadu is where I was born and brought up in! This small town taught me how to keep calm in chaos.\\xa0Woke up to the smell of sandalwood and the sound of temple bells and Kandar Shasti Kavacham\\n    My Story!\\n\\n    The Beginning!\\nThis cool dude in the left is me. I was born in this small coastal town of Tamil Nadu called Tuticorin.\\xa0Lived the slow life, grew up loving 2 things, Rhythm & Rasam and then eating Arun Ice Cream (Ball wala),\\xa0\\n\\n\\n\\n\\n\\n\\n\\n\\n\\n\\n    Drummer Phase!\\nContrary to popular belief, the legend is that I actually started off as a drummer.\\xa0Kahaani kuch aisi hai ki ek din school se ghar jaate waqt mere dost ne mujhe uske drums class mein bulaya,\\xa0I went to see him for fun, ended up joining the class myself.\\n\\n\\n\\n\\n\\n\\n\\nWrite your awesome label here.\\n\\n\\n\\n\\n\\n\\n\\n\\n\\n\\n\\n\\n\\n\\n\\n\\n\\nWrite your awesome label here.\\n\\n\\n\\n\\n\\n\\n\\n\\n\\n\\n\\n    My First Live Show!\\nThis is one of my favorite days of my entire life. The only performance I remember where I was in a flow state.\\xa0Enjoying every second, not caring what the world thought about me.\\xa0Goals.\\n\\n\\n\\n\\n\\n\\n\\n\\n\\n\\n\\n    the story\\nHow a Guitar Changed Everything.\\nNow suddenly, 2 years into drums one day I notice that my friend switched to guitar classes.\\xa0So what do I do? I switch to guitar too and never looked back.\\xa0This is how I ended up discovering this beautiful instrument and let it completely take over meFor someone who was extremely shy and low on self confidence, This instrument made me feel like a superhero.\\xa0Because suddenly when I had a guitar in my hand, I was the one people were waiting to listen to,\\xa0ME! the guy who faded into the corner of every room\\n\\n\\n\\n\\n\\n\\n\\n\\nKM Music Conservatory - 2014\\n\\n\\n\\n\\n\\n\\n\\n\\n\\n\\n\\n\\n\\nBerklee College Of Music - 2017\\n\\n\\n\\n\\n\\n\\n\\n\\n\\n\\n\\n\\n\\n\\n\\nKM Music Conservatory - 2015\\n\\n\\n\\n\\n\\n\\n\\n\\n\\n\\n\\n\\n\\n\\n\\n\\n\\n\\n\\n\\n\\n\\n\\n\\n\\nKM Music Conservatory - 2015\\n\\n\\n\\n\\n\\n\\n\\n\\n\\n\\n\\n\\n\\n\\nKM Music Conservatory - 2014\\n\\n\\n\\n\\n\\n\\n\\n\\n\\n\\n\\n\\n\\nKM Music Conservatory - 2016', 'KM Music Conservatory - 2014\\n\\n\\n\\n\\n\\n\\n\\n\\n\\n\\n\\n\\n\\nBerklee College Of Music - 2017\\n\\n\\n\\n\\n\\n\\n\\n\\n\\n\\n\\n\\n\\n\\n\\nKM Music Conservatory - 2015\\n\\n\\n\\n\\n\\n\\n\\n\\n\\n\\n\\n\\n\\n\\n\\n\\n\\n\\n\\n\\n\\n\\n\\n\\n\\nKM Music Conservatory - 2015\\n\\n\\n\\n\\n\\n\\n\\n\\n\\n\\n\\n\\n\\n\\nKM Music Conservatory - 2014\\n\\n\\n\\n\\n\\n\\n\\n\\n\\n\\n\\n\\n\\nKM Music Conservatory - 2016\\n\\n\\n\\n\\n\\n\\n\\n\\n\\n\\n\\n\\n    the story\\nMy Time at KM\\nMy love for the guitar continued into college and eventually led me to discover this heaven on earth in Chennai,\\xa0KM College of Music, an institute founded by A.R. Rahman.This place felt like home, helped me meet like-minded musicians, and for the first time, made me feel like I was finally around people like me.This here is a core memory from KM.\\xa0Almost every day looked like this,Musicians breaking into random, impromptu jams in the common hallway.\\xa0We spent so much time here, the security guards had to literally push us out every evening\\n\\n\\n\\n\\n\\n\\n\\n\\n\\n\\n    The Story Of My First Electric Guitar\\nIt was the summer of 2010. I had just finished my 10th boards, and my brother had come home from college. One evening, casually, he asked me, “Hey, my friend has an electric guitar and an amp lying around… do you want it?”I froze.He said it was a Fender. My jaw dropped. A Fender?! I couldn’t believe it. Of course, it turned out to be a Squier, not a Fender but to me, that didn’t matter. That was my first ever electric guitar. I still remember holding it for the first time, plugging it in, and feeling like I had just unlocked a whole new world.That one moment changed the direction of my life.\\n\\n\\n\\n\\n\\n\\n\\nWrite your awesome label here.\\n\\n\\n\\n\\n\\n\\n\\n\\n\\n\\n\\n\\n\\n\\n\\n\\n\\n\\n\\n\\n    over the years\\n\\n    The Guitar took me places.\\nWhat started as random riffs in my room slowly turned into something bigger. That first electric guitar took me places, literally. I found myself studying music at KM Music Conservatory in Chennai, and even walked the halls of Berklee College of Music during a summer program. Every step, every place, every photo here was because of that one spark.\\n\\n\\n\\n\\n\\n\\n\\n\\nKM Music Conservatory - 2014', \"Write your awesome label here.\\n\\n\\n\\n\\n\\n\\n\\n\\n\\n\\n\\n\\n\\n\\n\\n\\n\\n\\n\\n\\n    over the years\\n\\n    The Guitar took me places.\\nWhat started as random riffs in my room slowly turned into something bigger. That first electric guitar took me places, literally. I found myself studying music at KM Music Conservatory in Chennai, and even walked the halls of Berklee College of Music during a summer program. Every step, every place, every photo here was because of that one spark.\\n\\n\\n\\n\\n\\n\\n\\n\\nKM Music Conservatory - 2014\\n\\n\\n\\n\\n\\n\\n\\n\\n\\n\\n\\n\\n\\nBerklee College Of Music - 2017\\n\\n\\n\\n\\n\\n\\n\\n\\n\\n\\n\\n\\n\\n\\n\\nKM Music Conservatory - 2015\\n\\n\\n\\n\\n\\n\\n\\n\\n\\n\\n\\n\\n\\n\\n\\n\\n\\n\\n\\n\\n\\nCheck out all my Courses\\n\\n\\n\\n\\n\\n\\n\\n\\n\\n\\n\\n\\n\\n\\n\\n\\n\\n\\n\\n            Thankyou For The Love!\\n\\n\\n\\n\\n\\n\\n\\nWrite your awesome label here.\\n\\n\\n\\n\\n\\n\\n\\n\\n\\n\\n\\n\\n\\n\\n\\nWrite your awesome label here.\\n\\n\\n\\n\\n\\n\\n\\n\\n\\n\\n\\n\\n\\n\\n\\n\\n\\nWrite your awesome label here.\\n\\n\\n\\n\\n\\n\\n\\n\\n\\n\\n\\n\\n\\nWrite your awesome label here.\\n\\n\\n\\n\\n\\n\\n\\n\\n\\n\\n\\n\\n\\n\\n\\nWrite your awesome label here.\\n\\n\\n\\n\\n\\n\\n\\n\\n\\n\\n\\n\\n\\n\\n\\n\\n\\n\\n\\n\\n\\n\\n\\n\\n\\n\\n\\n\\n\\n\\n\\n\\n\\n\\n\\n\\n\\n\\n\\n\\nSocial accounts\\n\\n\\n\\n\\n\\n\\n\\n\\n\\n\\n\\n\\n\\n\\n\\n\\n\\n\\n\\n\\n\\n\\n\\n\\n\\nPrivacy PolicyCookie PolicyTerms & ConditionsRefund Policy\\n\\n\\nGet in touch\\n\\n\\n\\n\\nhello@gauravsharmamusic.com\\n\\n\\n\\n\\n+91 8220705800\\n\\n\\nMonday - Saturday 10 Am - 6PM\\xa0\\n\\n\\nOur Newsletter\\n\\n                    Get weekly updates on live streams, news, tips & tricks and more.\\n                \\n\\n\\n\\n\\n\\n\\n\\n\\n\\nJoin us now!\\n\\n\\n\\n\\n\\n\\n\\n\\n\\n\\n\\nI would like to receive news, tips and tricks, and other promotional material\\n\\n\\n\\n\\n\\n\\n\\n\\n    Thank you!\\n\\n\\n\\n\\n\\n\\n\\n\\n\\n                Copyright © 2025\\n            \\n\\n\\n\\n\\n\\n\\n\\n\\n\\n\\n\\n\\n\\n\\n\\n\\n\\n\\n\\n\\n\\n\\n\\n\\n\\n\\n\\n\\n\\n\\n\\n\\n\\n\\n\\n\\n\\n\\n\\n\\n\\n\\n\\n\\n\\n\\n\\n\\n\\n\\n\\n\\n\\n\\n\\n\\n\\n\\n\\n\\n\\n\\n\\n\\n\\n\\nLogin or sign up to start learning\\nLogin to start learning\\n\\nStart learning\\n\\n\\n\\n\\n\\n\\n\\n\\n\\n\\n\\n\\n\\n\\n\\n\\n\\n\\n\\n\\n\\n\\n\\n\\n\\n\\n\\n\\n\\n\\n\\n\\n\\n\\nor\\n\\n\\n\\n\\n\\n\\n\\n\\nWhat's your e-mail?\\n\\n\\n\\nYour password?\\n\\n\\n\\n\\n\\n\\n\\n\\n\\n\\nLogin\\n\\n\\n\\n\\nCreate Accounta new account for free\\n\\n\\nForgot your password?\\n\\n\\n\\n \\n\\n\\n\\n\\n \\n\\n \\n\\n\\n\\n\\nSign up to Gaurav Sharma Music!\\n\\n\\n\\n\\n\\n\\n\\n\\n\\n\\n\\n\\n\\n\\n\\n\\n\\n\\n\\n\\n\\n\\n\\n\\n\\n\\n\\n\\n\\n\\n\\n\\n\\n\\n\\n\\n\\n\\n\\n\\n\\n\\n\\n\\n\\n\\n\\n\\n\\n\\n\\n\\n\\nor\\n\\n\\n\\n\\n\\n\\nclick to upload avatar\\n\\n\\n\\n\\nWhat's your name?\\n\\n\\n\\n\\nWhat's your e-mail?\\n\\n\\n\\nYour password?\\n\\n\\n\\nYour phone number?\\n\\n\\n\\nYour address?\", \"Login or sign up to start learning\\nLogin to start learning\\n\\nStart learning\\n\\n\\n\\n\\n\\n\\n\\n\\n\\n\\n\\n\\n\\n\\n\\n\\n\\n\\n\\n\\n\\n\\n\\n\\n\\n\\n\\n\\n\\n\\n\\n\\n\\n\\nor\\n\\n\\n\\n\\n\\n\\n\\n\\nWhat's your e-mail?\\n\\n\\n\\nYour password?\\n\\n\\n\\n\\n\\n\\n\\n\\n\\n\\nLogin\\n\\n\\n\\n\\nCreate Accounta new account for free\\n\\n\\nForgot your password?\\n\\n\\n\\n \\n\\n\\n\\n\\n \\n\\n \\n\\n\\n\\n\\nSign up to Gaurav Sharma Music!\\n\\n\\n\\n\\n\\n\\n\\n\\n\\n\\n\\n\\n\\n\\n\\n\\n\\n\\n\\n\\n\\n\\n\\n\\n\\n\\n\\n\\n\\n\\n\\n\\n\\n\\n\\n\\n\\n\\n\\n\\n\\n\\n\\n\\n\\n\\n\\n\\n\\n\\n\\n\\n\\nor\\n\\n\\n\\n\\n\\n\\nclick to upload avatar\\n\\n\\n\\n\\nWhat's your name?\\n\\n\\n\\n\\nWhat's your e-mail?\\n\\n\\n\\nYour password?\\n\\n\\n\\nYour phone number?\\n\\n\\n\\nYour address?\\n\\n\\n\\nYour country?\\n\\n\\n\\nYour country?\", \"Country\\nAfghanistan\\nÅland Islands\\nAlbania\\nAlgeria\\nAmerican Samoa\\nAndorra\\nAngola\\nAnguilla\\nAntarctica\\nAntigua and Barbuda\\nArgentina\\nArmenia\\nAruba\\nAustralia\\nAustria\\nAzerbaijan\\nBahamas\\nBahrain\\nBangladesh\\nBarbados\\nBelarus\\nBelgium\\nBelize\\nBenin\\nBermuda\\nBhutan\\nBolivia, Plurinational State of\\nBonaire, Sint Eustatius and Saba\\nBosnia and Herzegovina\\nBotswana\\nBouvet Island\\nBrazil\\nBritish Indian Ocean Territory\\nBrunei Darussalam\\nBulgaria\\nBurkina Faso\\nBurundi\\nCambodia\\nCameroon\\nCanada\\nCape Verde\\nCayman Islands\\nCentral African Republic\\nChad\\nChile\\nChina\\nChristmas Island\\nCocos (Keeling) Islands\\nColombia\\nComoros\\nCongo\\nCongo, the Democratic Republic of the\\nCook Islands\\nCosta Rica\\nCôte d'Ivoire\\nCroatia\\nCuba\\nCuraçao\\nCyprus\\nCzech Republic\\nDenmark\\nDjibouti\\nDominica\\nDominican Republic\\nEcuador\\nEgypt\\nEl Salvador\\nEquatorial Guinea\\nEritrea\\nEstonia\\nEthiopia\\nFalkland Islands (Malvinas)\\nFaroe Islands\\nFiji\\nFinland\\nFrance\\nFrench Guiana\\nFrench Polynesia\\nFrench Southern Territories\\nGabon\\nGambia\\nGeorgia\\nGermany\\nGhana\\nGibraltar\\nGreece\\nGreenland\\nGrenada\\nGuadeloupe\\nGuam\\nGuatemala\\nGuernsey\\nGuinea\\nGuinea-Bissau\\nGuyana\\nHaiti\\nHeard Island and McDonald Islands\\nHoly See (Vatican City State)\\nHonduras\\nHong Kong\\nHungary\\nIceland\\nIndia\\nIndonesia\\nIran, Islamic Republic of\\nIraq\\nIreland\\nIsle of Man\\nIsrael\\nItaly\\nJamaica\\nJapan\\nJersey\\nJordan\\nKazakhstan\\nKenya\\nKiribati\\nKorea, Democratic People's Republic of\\nKorea, Republic of\\nKuwait\\nKyrgyzstan\\nLao People's Democratic Republic\\nLatvia\\nLebanon\\nLesotho\\nLiberia\\nLibya\\nLiechtenstein\\nLithuania\\nLuxembourg\\nMacao\\nMacedonia, the former Yugoslav Republic of\\nMadagascar\\nMalawi\\nMalaysia\\nMaldives\\nMali\\nMalta\\nMarshall Islands\\nMartinique\\nMauritania\\nMauritius\\nMayotte\\nMexico\\nMicronesia, Federated States of\\nMoldova, Republic of\\nMonaco\\nMongolia\\nMontenegro\\nMontserrat\\nMorocco\\nMozambique\\nMyanmar\\nNamibia\\nNauru\\nNepal\\nNetherlands\\nNew Caledonia\\nNew Zealand\\nNicaragua\\nNiger\\nNigeria\\nNiue\\nNorfolk Island\\nNorthern Mariana Islands\\nNorway\\nOman\\nPakistan\\nPalau\\nPalestinian Territory, Occupied\\nPanama\", 'Lithuania\\nLuxembourg\\nMacao\\nMacedonia, the former Yugoslav Republic of\\nMadagascar\\nMalawi\\nMalaysia\\nMaldives\\nMali\\nMalta\\nMarshall Islands\\nMartinique\\nMauritania\\nMauritius\\nMayotte\\nMexico\\nMicronesia, Federated States of\\nMoldova, Republic of\\nMonaco\\nMongolia\\nMontenegro\\nMontserrat\\nMorocco\\nMozambique\\nMyanmar\\nNamibia\\nNauru\\nNepal\\nNetherlands\\nNew Caledonia\\nNew Zealand\\nNicaragua\\nNiger\\nNigeria\\nNiue\\nNorfolk Island\\nNorthern Mariana Islands\\nNorway\\nOman\\nPakistan\\nPalau\\nPalestinian Territory, Occupied\\nPanama\\nPapua New Guinea\\nParaguay\\nPeru\\nPhilippines\\nPitcairn\\nPoland\\nPortugal\\nPuerto Rico\\nQatar\\nRéunion\\nRomania\\nRussian Federation\\nRwanda\\nSaint Barthélemy\\nSaint Helena, Ascension and Tristan da Cunha\\nSaint Kitts and Nevis\\nSaint Lucia\\nSaint Martin (French part)\\nSaint Pierre and Miquelon\\nSaint Vincent and the Grenadines\\nSamoa\\nSan Marino\\nSao Tome and Principe\\nSaudi Arabia\\nSenegal\\nSerbia\\nSeychelles\\nSierra Leone\\nSingapore\\nSint Maarten (Dutch part)\\nSlovakia\\nSlovenia\\nSolomon Islands\\nSomalia\\nSouth Africa\\nSouth Georgia and the South Sandwich Islands\\nSouth Sudan\\nSpain\\nSri Lanka\\nSudan\\nSuriname\\nSvalbard and Jan Mayen\\nSwaziland\\nSweden\\nSwitzerland\\nSyrian Arab Republic\\nTaiwan, Province of China\\nTajikistan\\nTanzania, United Republic of\\nThailand\\nTimor-Leste\\nTogo\\nTokelau\\nTonga\\nTrinidad and Tobago\\nTunisia\\nTurkey\\nTurkmenistan\\nTurks and Caicos Islands\\nTuvalu\\nUganda\\nUkraine\\nUnited Arab Emirates\\nUnited Kingdom\\nUnited States\\nUnited States Minor Outlying Islands\\nUruguay\\nUzbekistan\\nVanuatu\\nVenezuela, Bolivarian Republic of\\nViet Nam\\nVirgin Islands, British\\nVirgin Islands, U.S.\\nWallis and Futuna\\nWestern Sahara\\nYemen\\nZambia\\nZimbabwe', \"Your birthday?\\n\\n\\n\\nYour company name?\\n\\n\\n\\nYour company size?\\n\\n\\nCompany Size\\n1-10\\n11-25\\n26-50\\n51-100\\n101-200\\n201-500\\n500+\\n\\n\\n\\n\\nYour Profession?\\n\\n\\nProfession\\nArchitect\\nContractor\\nEngineer\\nFacility mgmt\\nOther\\nPrivate\\nPromoter\\nArchitekt\\nAuftragnehmer\\nIngenieur\\nFacility mgmt\\nAndere\\nPrivat\\nProjektträger\\nArchitect\\nAannemer\\nIngenieur\\nFacility Manager\\nAndere\\nPrivé\\nPromotor\\nArchitecte\\nEntrepreneur\\nIngénieur\\nGestionnaire d'installation\\nAutre\\nParticulier\\nPromoteur\\n\\n\\n\\n\\nYour website?\\n\\n\\n\\nYour university?\\n\\n\\n\\nYour graduation year?\\n\\n\\n\\n\\n\\n\\nI accept the\\nTerms & Conditions\\n\\n\\n\\n\\n\\n\\nI would like to receive news, tips and tricks, and other promotional material\\n\\n\\n\\n\\n\\n\\n\\n\\n\\n\\n\\n\\nStart your learning journey\\n\\n\\n\\nSign in with your account\\n\\n\\nForgot your password?\\n\\n\\n\\n\\n\\nor\\n\\n\\n\\n\\n\\n\\n\\nGet a brand new password!\\n\\n\\nWhat's your e-mail?\\n\\n\\n\\n\\n\\n\\n\\n\\n\\n\\n\\n\\n\\nOK\\n\\n\\nCancel\\n\\n\\n\\n\\n\\n\\n\\n\\n\\n        Enter your brand new password\\n    \\n\\n\\n\\nEnter it below, please\\n\\n\\n\\nEnter it once more, please\\n\\n\\n\\n\\n\\n\\n\\n\\n\\n\\nOK\\n\\n\\nCancel\"], 'uris': None, 'included': ['metadatas', 'documents'], 'data': None, 'metadatas': [{'language': 'en', 'title': 'Home', 'source': 'https://www.gauravsharmamusic.com/?msg=not-logged-in'}, {'title': 'Home', 'language': 'en', 'source': 'https://www.gauravsharmamusic.com/?msg=not-logged-in'}, {'title': 'Home', 'language': 'en', 'source': 'https://www.gauravsharmamusic.com/?msg=not-logged-in'}, {'language': 'en', 'title': 'Home', 'source': 'https://www.gauravsharmamusic.com/?msg=not-logged-in'}, {'title': 'Home', 'language': 'en', 'source': 'https://www.gauravsharmamusic.com/?msg=not-logged-in'}, {'title': 'Home', 'source': 'https://www.gauravsharmamusic.com/?msg=not-logged-in', 'language': 'en'}, {'language': 'en', 'source': 'https://www.gauravsharmamusic.com/?msg=not-logged-in', 'title': 'Home'}, {'title': 'Home', 'language': 'en', 'source': 'https://www.gauravsharmamusic.com/?msg=not-logged-in'}]}\n"
          ]
        }
      ]
    },
    {
      "cell_type": "markdown",
      "source": [
        "Making Vector Store as Retriever\n"
      ],
      "metadata": {
        "id": "eRVx8jLLyhwl"
      }
    },
    {
      "cell_type": "code",
      "source": [
        "retriever = vectorstore.as_retriever()"
      ],
      "metadata": {
        "id": "HJmrmOqRyZjE"
      },
      "execution_count": null,
      "outputs": []
    },
    {
      "cell_type": "markdown",
      "source": [
        "Augmentation\n"
      ],
      "metadata": {
        "id": "oJf3jdhZxQGo"
      }
    },
    {
      "cell_type": "code",
      "source": [
        "from langchain import hub\n",
        "prompt = hub.pull(\"rlm/rag-prompt\")"
      ],
      "metadata": {
        "id": "JCp0U77Tz7g6"
      },
      "execution_count": null,
      "outputs": []
    },
    {
      "cell_type": "code",
      "source": [
        "from langchain.chat_models import init_chat_model\n",
        "from langchain_core.runnables import RunnablePassthrough\n",
        "from langchain_core.output_parsers import StrOutputParser"
      ],
      "metadata": {
        "id": "vXCEPq4R0pke"
      },
      "execution_count": null,
      "outputs": []
    },
    {
      "cell_type": "code",
      "source": [
        "!pip install python-dotenv langchain[groq]"
      ],
      "metadata": {
        "colab": {
          "base_uri": "https://localhost:8080/"
        },
        "id": "BxMhHhfT1ZlH",
        "outputId": "5d48cb89-16a5-485c-820d-9f0b2ca89997"
      },
      "execution_count": null,
      "outputs": [
        {
          "output_type": "stream",
          "name": "stdout",
          "text": [
            "Requirement already satisfied: python-dotenv in /usr/local/lib/python3.12/dist-packages (1.1.1)\n",
            "Requirement already satisfied: langchain[groq] in /usr/local/lib/python3.12/dist-packages (0.3.27)\n",
            "Requirement already satisfied: langchain-core<1.0.0,>=0.3.72 in /usr/local/lib/python3.12/dist-packages (from langchain[groq]) (0.3.78)\n",
            "Requirement already satisfied: langchain-text-splitters<1.0.0,>=0.3.9 in /usr/local/lib/python3.12/dist-packages (from langchain[groq]) (0.3.11)\n",
            "Requirement already satisfied: langsmith>=0.1.17 in /usr/local/lib/python3.12/dist-packages (from langchain[groq]) (0.4.33)\n",
            "Requirement already satisfied: pydantic<3.0.0,>=2.7.4 in /usr/local/lib/python3.12/dist-packages (from langchain[groq]) (2.11.10)\n",
            "Requirement already satisfied: SQLAlchemy<3,>=1.4 in /usr/local/lib/python3.12/dist-packages (from langchain[groq]) (2.0.43)\n",
            "Requirement already satisfied: requests<3,>=2 in /usr/local/lib/python3.12/dist-packages (from langchain[groq]) (2.32.5)\n",
            "Requirement already satisfied: PyYAML>=5.3 in /usr/local/lib/python3.12/dist-packages (from langchain[groq]) (6.0.3)\n",
            "Requirement already satisfied: langchain-groq in /usr/local/lib/python3.12/dist-packages (from langchain[groq]) (0.3.8)\n",
            "Requirement already satisfied: tenacity!=8.4.0,<10.0.0,>=8.1.0 in /usr/local/lib/python3.12/dist-packages (from langchain-core<1.0.0,>=0.3.72->langchain[groq]) (8.5.0)\n",
            "Requirement already satisfied: jsonpatch<2.0.0,>=1.33.0 in /usr/local/lib/python3.12/dist-packages (from langchain-core<1.0.0,>=0.3.72->langchain[groq]) (1.33)\n",
            "Requirement already satisfied: typing-extensions<5.0.0,>=4.7.0 in /usr/local/lib/python3.12/dist-packages (from langchain-core<1.0.0,>=0.3.72->langchain[groq]) (4.15.0)\n",
            "Requirement already satisfied: packaging<26.0.0,>=23.2.0 in /usr/local/lib/python3.12/dist-packages (from langchain-core<1.0.0,>=0.3.72->langchain[groq]) (24.2)\n",
            "Requirement already satisfied: httpx<1,>=0.23.0 in /usr/local/lib/python3.12/dist-packages (from langsmith>=0.1.17->langchain[groq]) (0.28.1)\n",
            "Requirement already satisfied: orjson>=3.9.14 in /usr/local/lib/python3.12/dist-packages (from langsmith>=0.1.17->langchain[groq]) (3.11.3)\n",
            "Requirement already satisfied: requests-toolbelt>=1.0.0 in /usr/local/lib/python3.12/dist-packages (from langsmith>=0.1.17->langchain[groq]) (1.0.0)\n",
            "Requirement already satisfied: zstandard>=0.23.0 in /usr/local/lib/python3.12/dist-packages (from langsmith>=0.1.17->langchain[groq]) (0.25.0)\n",
            "Requirement already satisfied: annotated-types>=0.6.0 in /usr/local/lib/python3.12/dist-packages (from pydantic<3.0.0,>=2.7.4->langchain[groq]) (0.7.0)\n",
            "Requirement already satisfied: pydantic-core==2.33.2 in /usr/local/lib/python3.12/dist-packages (from pydantic<3.0.0,>=2.7.4->langchain[groq]) (2.33.2)\n",
            "Requirement already satisfied: typing-inspection>=0.4.0 in /usr/local/lib/python3.12/dist-packages (from pydantic<3.0.0,>=2.7.4->langchain[groq]) (0.4.2)\n",
            "Requirement already satisfied: charset_normalizer<4,>=2 in /usr/local/lib/python3.12/dist-packages (from requests<3,>=2->langchain[groq]) (3.4.3)\n",
            "Requirement already satisfied: idna<4,>=2.5 in /usr/local/lib/python3.12/dist-packages (from requests<3,>=2->langchain[groq]) (3.10)\n",
            "Requirement already satisfied: urllib3<3,>=1.21.1 in /usr/local/lib/python3.12/dist-packages (from requests<3,>=2->langchain[groq]) (2.3.0)\n",
            "Requirement already satisfied: certifi>=2017.4.17 in /usr/local/lib/python3.12/dist-packages (from requests<3,>=2->langchain[groq]) (2025.10.5)\n",
            "Requirement already satisfied: greenlet>=1 in /usr/local/lib/python3.12/dist-packages (from SQLAlchemy<3,>=1.4->langchain[groq]) (3.2.4)\n",
            "Requirement already satisfied: groq<1,>=0.30.0 in /usr/local/lib/python3.12/dist-packages (from langchain-groq->langchain[groq]) (0.32.0)\n",
            "Requirement already satisfied: anyio<5,>=3.5.0 in /usr/local/lib/python3.12/dist-packages (from groq<1,>=0.30.0->langchain-groq->langchain[groq]) (4.11.0)\n",
            "Requirement already satisfied: distro<2,>=1.7.0 in /usr/local/lib/python3.12/dist-packages (from groq<1,>=0.30.0->langchain-groq->langchain[groq]) (1.9.0)\n",
            "Requirement already satisfied: sniffio in /usr/local/lib/python3.12/dist-packages (from groq<1,>=0.30.0->langchain-groq->langchain[groq]) (1.3.1)\n",
            "Requirement already satisfied: httpcore==1.* in /usr/local/lib/python3.12/dist-packages (from httpx<1,>=0.23.0->langsmith>=0.1.17->langchain[groq]) (1.0.9)\n",
            "Requirement already satisfied: h11>=0.16 in /usr/local/lib/python3.12/dist-packages (from httpcore==1.*->httpx<1,>=0.23.0->langsmith>=0.1.17->langchain[groq]) (0.16.0)\n",
            "Requirement already satisfied: jsonpointer>=1.9 in /usr/local/lib/python3.12/dist-packages (from jsonpatch<2.0.0,>=1.33.0->langchain-core<1.0.0,>=0.3.72->langchain[groq]) (3.0.0)\n"
          ]
        }
      ]
    },
    {
      "cell_type": "code",
      "source": [
        "llm = init_chat_model(\"llama-3.1-8b-instant\", model_provider=\"groq\")"
      ],
      "metadata": {
        "id": "jvRb9OcEysxI"
      },
      "execution_count": null,
      "outputs": []
    },
    {
      "cell_type": "code",
      "source": [
        "def format_docs(docs):\n",
        "  return \"\\n\".join(doc.page_content for doc in docs)"
      ],
      "metadata": {
        "id": "upy3CBWE0HRR"
      },
      "execution_count": null,
      "outputs": []
    },
    {
      "cell_type": "code",
      "source": [
        "rag_chain = ({\"context\" : retriever | format_docs, \"question\" : RunnablePassthrough()}\n",
        "             | prompt\n",
        "             | llm\n",
        "             | StrOutputParser())"
      ],
      "metadata": {
        "id": "cTAYG_N109_n"
      },
      "execution_count": null,
      "outputs": []
    },
    {
      "cell_type": "markdown",
      "source": [
        "Testing RAG Chain"
      ],
      "metadata": {
        "id": "e1EM4gQn1YJ0"
      }
    },
    {
      "cell_type": "code",
      "source": [
        "rag_chain.invoke(\"Who is Gaurav Sharma\")"
      ],
      "metadata": {
        "colab": {
          "base_uri": "https://localhost:8080/",
          "height": 53
        },
        "id": "nL-fTkfA2-I1",
        "outputId": "4d81e194-e78e-489a-89a1-3af219c2d0a3"
      },
      "execution_count": null,
      "outputs": [
        {
          "output_type": "execute_result",
          "data": {
            "text/plain": [
              "'Gaurav Sharma is a musician who started his music journey as a drummer but later discovered his passion for the guitar. He attended KM Music Conservatory and Berklee College of Music, and his music career took him to various places.'"
            ],
            "application/vnd.google.colaboratory.intrinsic+json": {
              "type": "string"
            }
          },
          "metadata": {},
          "execution_count": 26
        }
      ]
    },
    {
      "cell_type": "code",
      "source": [
        "rag_chain.invoke(\"The Story Of My First Electric Guitar\")"
      ],
      "metadata": {
        "colab": {
          "base_uri": "https://localhost:8080/",
          "height": 53
        },
        "id": "buwtOJ9N3HPl",
        "outputId": "e33a12be-8979-42c7-c033-04aac38b1e44"
      },
      "execution_count": null,
      "outputs": [
        {
          "output_type": "execute_result",
          "data": {
            "text/plain": [
              "'My first electric guitar was a Squier, given to me by my brother in the summer of 2010. It was a life-changing moment that took me to places, including studying music at KM Music Conservatory in Chennai and Berklee College of Music. That guitar sparked a new world for me.'"
            ],
            "application/vnd.google.colaboratory.intrinsic+json": {
              "type": "string"
            }
          },
          "metadata": {},
          "execution_count": 27
        }
      ]
    },
    {
      "cell_type": "code",
      "source": [
        "rag_chain.invoke(\"Tell about electric guitar in the website\")"
      ],
      "metadata": {
        "colab": {
          "base_uri": "https://localhost:8080/",
          "height": 53
        },
        "id": "bt3vp30x3WMR",
        "outputId": "f624ded9-2ee4-4c23-e202-f97b9931bde8"
      },
      "execution_count": null,
      "outputs": [
        {
          "output_type": "execute_result",
          "data": {
            "text/plain": [
              "\"The website talks about the speaker's journey with an electric guitar. He received his first electric guitar, a Squier, from his brother in 2010, which changed the direction of his life. This guitar took him to KM Music Conservatory in Chennai and Berklee College of Music, opening up new opportunities.\""
            ],
            "application/vnd.google.colaboratory.intrinsic+json": {
              "type": "string"
            }
          },
          "metadata": {},
          "execution_count": 29
        }
      ]
    },
    {
      "cell_type": "code",
      "source": [
        "rag_chain.invoke(\"What courses are being taught by Gaurav Sharma. Name all\")"
      ],
      "metadata": {
        "colab": {
          "base_uri": "https://localhost:8080/",
          "height": 35
        },
        "id": "0qg5XUmJ47VE",
        "outputId": "dc3c29b4-5509-4bcd-f451-7a98803afb6c"
      },
      "execution_count": null,
      "outputs": [
        {
          "output_type": "execute_result",
          "data": {
            "text/plain": [
              "'Gaurav Sharma is a Music Educator and has taught at KM Music Conservatory and Berklee College Of Music.'"
            ],
            "application/vnd.google.colaboratory.intrinsic+json": {
              "type": "string"
            }
          },
          "metadata": {},
          "execution_count": 31
        }
      ]
    }
  ]
}